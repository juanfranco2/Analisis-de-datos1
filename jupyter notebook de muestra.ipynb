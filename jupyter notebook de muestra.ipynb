{
 "cells": [
  {
   "cell_type": "markdown",
   "metadata": {},
   "source": [
    "#                                     Proyecto de Github"
   ]
  },
  {
   "cell_type": "markdown",
   "metadata": {},
   "source": [
    "El objetivo del presente informe es demostrar mi conocimiento en las librerias Numpy, Pandas, Matplotlib y Seaborn del lenguaje de programación Python. Para el analisis se usará una base de datos ficticia.  "
   ]
  },
  {
   "cell_type": "markdown",
   "metadata": {},
   "source": [
    "En primer lugar importamos las librerias a usar en el código."
   ]
  },
  {
   "cell_type": "code",
   "execution_count": 1,
   "metadata": {},
   "outputs": [],
   "source": [
    "import numpy as np"
   ]
  },
  {
   "cell_type": "code",
   "execution_count": 2,
   "metadata": {},
   "outputs": [],
   "source": [
    "import pandas as pd"
   ]
  },
  {
   "cell_type": "code",
   "execution_count": 3,
   "metadata": {},
   "outputs": [],
   "source": [
    "import matplotlib.pyplot as plt"
   ]
  },
  {
   "cell_type": "code",
   "execution_count": 4,
   "metadata": {},
   "outputs": [],
   "source": [
    "import seaborn as sb"
   ]
  },
  {
   "cell_type": "markdown",
   "metadata": {},
   "source": [
    "En segundo lugar, configuramos con Seaborn el aspecto de los gráficos del archivo actual."
   ]
  },
  {
   "cell_type": "code",
   "execution_count": 5,
   "metadata": {},
   "outputs": [],
   "source": [
    "sb.set()\n",
    "tamano_letra_ejes=16\n",
    "tamano_letra_titulo=18\n",
    "tamano_valores_eje_x=18\n",
    "tamano_valores_eje_y=18\n",
    "tamano_horizontal_grafico=10\n",
    "tamano_vertical_grafico=6\n",
    "sb.set_context(\"notebook\",\n",
    "rc={\"font.size\": 18, \n",
    "     \"axes.labelsize\": tamano_letra_ejes, \n",
    "     \"axes.titlesize\":tamano_letra_titulo,\n",
    "     \"xtick.labelsize\": tamano_valores_eje_x,\n",
    "     \"ytick.labelsize\": tamano_valores_eje_y,\n",
    " }\n",
    " )\n",
    "plt.rcParams['figure.figsize'] = (tamano_horizontal_grafico, tamano_vertical_grafico)"
   ]
  },
  {
   "cell_type": "markdown",
   "metadata": {},
   "source": [
    "Luego definimos al data frame \"datos_falsos\" que va a tener toda la información. Este información esta contenida en el archivo llamado Datos Falsos.csv. El archivo debe estar en la misma carpeta que este jupyter notebook para que funcione."
   ]
  },
  {
   "cell_type": "code",
   "execution_count": 6,
   "metadata": {},
   "outputs": [],
   "source": [
    "datos_falsos = pd.read_csv('Datos Falsos.csv')"
   ]
  },
  {
   "cell_type": "code",
   "execution_count": 7,
   "metadata": {},
   "outputs": [
    {
     "data": {
      "text/html": [
       "<div>\n",
       "<style scoped>\n",
       "    .dataframe tbody tr th:only-of-type {\n",
       "        vertical-align: middle;\n",
       "    }\n",
       "\n",
       "    .dataframe tbody tr th {\n",
       "        vertical-align: top;\n",
       "    }\n",
       "\n",
       "    .dataframe thead th {\n",
       "        text-align: right;\n",
       "    }\n",
       "</style>\n",
       "<table border=\"1\" class=\"dataframe\">\n",
       "  <thead>\n",
       "    <tr style=\"text-align: right;\">\n",
       "      <th></th>\n",
       "      <th>id</th>\n",
       "      <th>Nombre</th>\n",
       "      <th>Apellido</th>\n",
       "      <th>email</th>\n",
       "      <th>Genero</th>\n",
       "      <th>Salario</th>\n",
       "      <th>Raza</th>\n",
       "    </tr>\n",
       "  </thead>\n",
       "  <tbody>\n",
       "    <tr>\n",
       "      <th>0</th>\n",
       "      <td>1</td>\n",
       "      <td>Fredi</td>\n",
       "      <td>Ochiltree</td>\n",
       "      <td>fochiltree0@digg.com</td>\n",
       "      <td>Female</td>\n",
       "      <td>973729.0</td>\n",
       "      <td>Latin American Indian</td>\n",
       "    </tr>\n",
       "    <tr>\n",
       "      <th>1</th>\n",
       "      <td>2</td>\n",
       "      <td>Anneliese</td>\n",
       "      <td>Southey</td>\n",
       "      <td>asouthey1@prweb.com</td>\n",
       "      <td>Female</td>\n",
       "      <td>827507.0</td>\n",
       "      <td>White</td>\n",
       "    </tr>\n",
       "    <tr>\n",
       "      <th>2</th>\n",
       "      <td>3</td>\n",
       "      <td>Mauricio</td>\n",
       "      <td>Marchant</td>\n",
       "      <td>mmarchant2@tripod.com</td>\n",
       "      <td>Male</td>\n",
       "      <td>814941.0</td>\n",
       "      <td>Delaware</td>\n",
       "    </tr>\n",
       "    <tr>\n",
       "      <th>3</th>\n",
       "      <td>4</td>\n",
       "      <td>Meara</td>\n",
       "      <td>Caitlin</td>\n",
       "      <td>mcaitlin3@tinypic.com</td>\n",
       "      <td>Female</td>\n",
       "      <td>975119.0</td>\n",
       "      <td>Aleut</td>\n",
       "    </tr>\n",
       "    <tr>\n",
       "      <th>4</th>\n",
       "      <td>5</td>\n",
       "      <td>Jory</td>\n",
       "      <td>Lacoste</td>\n",
       "      <td>jlacoste4@comcast.net</td>\n",
       "      <td>Male</td>\n",
       "      <td>680650.0</td>\n",
       "      <td>Colville</td>\n",
       "    </tr>\n",
       "    <tr>\n",
       "      <th>...</th>\n",
       "      <td>...</td>\n",
       "      <td>...</td>\n",
       "      <td>...</td>\n",
       "      <td>...</td>\n",
       "      <td>...</td>\n",
       "      <td>...</td>\n",
       "      <td>...</td>\n",
       "    </tr>\n",
       "    <tr>\n",
       "      <th>995</th>\n",
       "      <td>996</td>\n",
       "      <td>Darsie</td>\n",
       "      <td>Levane</td>\n",
       "      <td>dlevanern@sohu.com</td>\n",
       "      <td>Female</td>\n",
       "      <td>836998.0</td>\n",
       "      <td>Hmong</td>\n",
       "    </tr>\n",
       "    <tr>\n",
       "      <th>996</th>\n",
       "      <td>997</td>\n",
       "      <td>Camala</td>\n",
       "      <td>Wathall</td>\n",
       "      <td>cwathallro@pen.io</td>\n",
       "      <td>Female</td>\n",
       "      <td>480701.0</td>\n",
       "      <td>Fijian</td>\n",
       "    </tr>\n",
       "    <tr>\n",
       "      <th>997</th>\n",
       "      <td>998</td>\n",
       "      <td>Jessie</td>\n",
       "      <td>Bolf</td>\n",
       "      <td>jbolfrp@adobe.com</td>\n",
       "      <td>Genderfluid</td>\n",
       "      <td>727565.0</td>\n",
       "      <td>Asian</td>\n",
       "    </tr>\n",
       "    <tr>\n",
       "      <th>998</th>\n",
       "      <td>999</td>\n",
       "      <td>Maureen</td>\n",
       "      <td>Grieger</td>\n",
       "      <td>mgriegerrq@google.com.br</td>\n",
       "      <td>Female</td>\n",
       "      <td>851410.0</td>\n",
       "      <td>Korean</td>\n",
       "    </tr>\n",
       "    <tr>\n",
       "      <th>999</th>\n",
       "      <td>1000</td>\n",
       "      <td>Dinnie</td>\n",
       "      <td>Poat</td>\n",
       "      <td>dpoatrr@hc360.com</td>\n",
       "      <td>Female</td>\n",
       "      <td>NaN</td>\n",
       "      <td>Cuban</td>\n",
       "    </tr>\n",
       "  </tbody>\n",
       "</table>\n",
       "<p>1000 rows × 7 columns</p>\n",
       "</div>"
      ],
      "text/plain": [
       "       id     Nombre   Apellido                     email       Genero  \\\n",
       "0       1      Fredi  Ochiltree      fochiltree0@digg.com       Female   \n",
       "1       2  Anneliese    Southey       asouthey1@prweb.com       Female   \n",
       "2       3   Mauricio   Marchant     mmarchant2@tripod.com         Male   \n",
       "3       4      Meara    Caitlin     mcaitlin3@tinypic.com       Female   \n",
       "4       5       Jory    Lacoste     jlacoste4@comcast.net         Male   \n",
       "..    ...        ...        ...                       ...          ...   \n",
       "995   996     Darsie     Levane        dlevanern@sohu.com       Female   \n",
       "996   997     Camala    Wathall         cwathallro@pen.io       Female   \n",
       "997   998     Jessie       Bolf         jbolfrp@adobe.com  Genderfluid   \n",
       "998   999    Maureen    Grieger  mgriegerrq@google.com.br       Female   \n",
       "999  1000     Dinnie       Poat         dpoatrr@hc360.com       Female   \n",
       "\n",
       "      Salario                   Raza  \n",
       "0    973729.0  Latin American Indian  \n",
       "1    827507.0                  White  \n",
       "2    814941.0               Delaware  \n",
       "3    975119.0                  Aleut  \n",
       "4    680650.0               Colville  \n",
       "..        ...                    ...  \n",
       "995  836998.0                  Hmong  \n",
       "996  480701.0                 Fijian  \n",
       "997  727565.0                  Asian  \n",
       "998  851410.0                 Korean  \n",
       "999       NaN                  Cuban  \n",
       "\n",
       "[1000 rows x 7 columns]"
      ]
     },
     "execution_count": 7,
     "metadata": {},
     "output_type": "execute_result"
    }
   ],
   "source": [
    "datos_falsos"
   ]
  },
  {
   "cell_type": "markdown",
   "metadata": {},
   "source": [
    "Antes de partir cualquier analisis,quiero definir a la columna \"id\" como mi columna indice, para eso usamos la siguiente instrucción:"
   ]
  },
  {
   "cell_type": "code",
   "execution_count": 8,
   "metadata": {},
   "outputs": [],
   "source": [
    "datos_falsos = datos_falsos.set_index('id')"
   ]
  },
  {
   "cell_type": "code",
   "execution_count": 9,
   "metadata": {},
   "outputs": [
    {
     "data": {
      "text/html": [
       "<div>\n",
       "<style scoped>\n",
       "    .dataframe tbody tr th:only-of-type {\n",
       "        vertical-align: middle;\n",
       "    }\n",
       "\n",
       "    .dataframe tbody tr th {\n",
       "        vertical-align: top;\n",
       "    }\n",
       "\n",
       "    .dataframe thead th {\n",
       "        text-align: right;\n",
       "    }\n",
       "</style>\n",
       "<table border=\"1\" class=\"dataframe\">\n",
       "  <thead>\n",
       "    <tr style=\"text-align: right;\">\n",
       "      <th></th>\n",
       "      <th>Nombre</th>\n",
       "      <th>Apellido</th>\n",
       "      <th>email</th>\n",
       "      <th>Genero</th>\n",
       "      <th>Salario</th>\n",
       "      <th>Raza</th>\n",
       "    </tr>\n",
       "    <tr>\n",
       "      <th>id</th>\n",
       "      <th></th>\n",
       "      <th></th>\n",
       "      <th></th>\n",
       "      <th></th>\n",
       "      <th></th>\n",
       "      <th></th>\n",
       "    </tr>\n",
       "  </thead>\n",
       "  <tbody>\n",
       "    <tr>\n",
       "      <th>1</th>\n",
       "      <td>Fredi</td>\n",
       "      <td>Ochiltree</td>\n",
       "      <td>fochiltree0@digg.com</td>\n",
       "      <td>Female</td>\n",
       "      <td>973729.0</td>\n",
       "      <td>Latin American Indian</td>\n",
       "    </tr>\n",
       "    <tr>\n",
       "      <th>2</th>\n",
       "      <td>Anneliese</td>\n",
       "      <td>Southey</td>\n",
       "      <td>asouthey1@prweb.com</td>\n",
       "      <td>Female</td>\n",
       "      <td>827507.0</td>\n",
       "      <td>White</td>\n",
       "    </tr>\n",
       "    <tr>\n",
       "      <th>3</th>\n",
       "      <td>Mauricio</td>\n",
       "      <td>Marchant</td>\n",
       "      <td>mmarchant2@tripod.com</td>\n",
       "      <td>Male</td>\n",
       "      <td>814941.0</td>\n",
       "      <td>Delaware</td>\n",
       "    </tr>\n",
       "    <tr>\n",
       "      <th>4</th>\n",
       "      <td>Meara</td>\n",
       "      <td>Caitlin</td>\n",
       "      <td>mcaitlin3@tinypic.com</td>\n",
       "      <td>Female</td>\n",
       "      <td>975119.0</td>\n",
       "      <td>Aleut</td>\n",
       "    </tr>\n",
       "    <tr>\n",
       "      <th>5</th>\n",
       "      <td>Jory</td>\n",
       "      <td>Lacoste</td>\n",
       "      <td>jlacoste4@comcast.net</td>\n",
       "      <td>Male</td>\n",
       "      <td>680650.0</td>\n",
       "      <td>Colville</td>\n",
       "    </tr>\n",
       "    <tr>\n",
       "      <th>...</th>\n",
       "      <td>...</td>\n",
       "      <td>...</td>\n",
       "      <td>...</td>\n",
       "      <td>...</td>\n",
       "      <td>...</td>\n",
       "      <td>...</td>\n",
       "    </tr>\n",
       "    <tr>\n",
       "      <th>996</th>\n",
       "      <td>Darsie</td>\n",
       "      <td>Levane</td>\n",
       "      <td>dlevanern@sohu.com</td>\n",
       "      <td>Female</td>\n",
       "      <td>836998.0</td>\n",
       "      <td>Hmong</td>\n",
       "    </tr>\n",
       "    <tr>\n",
       "      <th>997</th>\n",
       "      <td>Camala</td>\n",
       "      <td>Wathall</td>\n",
       "      <td>cwathallro@pen.io</td>\n",
       "      <td>Female</td>\n",
       "      <td>480701.0</td>\n",
       "      <td>Fijian</td>\n",
       "    </tr>\n",
       "    <tr>\n",
       "      <th>998</th>\n",
       "      <td>Jessie</td>\n",
       "      <td>Bolf</td>\n",
       "      <td>jbolfrp@adobe.com</td>\n",
       "      <td>Genderfluid</td>\n",
       "      <td>727565.0</td>\n",
       "      <td>Asian</td>\n",
       "    </tr>\n",
       "    <tr>\n",
       "      <th>999</th>\n",
       "      <td>Maureen</td>\n",
       "      <td>Grieger</td>\n",
       "      <td>mgriegerrq@google.com.br</td>\n",
       "      <td>Female</td>\n",
       "      <td>851410.0</td>\n",
       "      <td>Korean</td>\n",
       "    </tr>\n",
       "    <tr>\n",
       "      <th>1000</th>\n",
       "      <td>Dinnie</td>\n",
       "      <td>Poat</td>\n",
       "      <td>dpoatrr@hc360.com</td>\n",
       "      <td>Female</td>\n",
       "      <td>NaN</td>\n",
       "      <td>Cuban</td>\n",
       "    </tr>\n",
       "  </tbody>\n",
       "</table>\n",
       "<p>1000 rows × 6 columns</p>\n",
       "</div>"
      ],
      "text/plain": [
       "         Nombre   Apellido                     email       Genero   Salario  \\\n",
       "id                                                                            \n",
       "1         Fredi  Ochiltree      fochiltree0@digg.com       Female  973729.0   \n",
       "2     Anneliese    Southey       asouthey1@prweb.com       Female  827507.0   \n",
       "3      Mauricio   Marchant     mmarchant2@tripod.com         Male  814941.0   \n",
       "4         Meara    Caitlin     mcaitlin3@tinypic.com       Female  975119.0   \n",
       "5          Jory    Lacoste     jlacoste4@comcast.net         Male  680650.0   \n",
       "...         ...        ...                       ...          ...       ...   \n",
       "996      Darsie     Levane        dlevanern@sohu.com       Female  836998.0   \n",
       "997      Camala    Wathall         cwathallro@pen.io       Female  480701.0   \n",
       "998      Jessie       Bolf         jbolfrp@adobe.com  Genderfluid  727565.0   \n",
       "999     Maureen    Grieger  mgriegerrq@google.com.br       Female  851410.0   \n",
       "1000     Dinnie       Poat         dpoatrr@hc360.com       Female       NaN   \n",
       "\n",
       "                       Raza  \n",
       "id                           \n",
       "1     Latin American Indian  \n",
       "2                     White  \n",
       "3                  Delaware  \n",
       "4                     Aleut  \n",
       "5                  Colville  \n",
       "...                     ...  \n",
       "996                   Hmong  \n",
       "997                  Fijian  \n",
       "998                   Asian  \n",
       "999                  Korean  \n",
       "1000                  Cuban  \n",
       "\n",
       "[1000 rows x 6 columns]"
      ]
     },
     "execution_count": 9,
     "metadata": {},
     "output_type": "execute_result"
    }
   ],
   "source": [
    "datos_falsos"
   ]
  },
  {
   "cell_type": "markdown",
   "metadata": {},
   "source": [
    "Ahora vamos a revisar si existen filas con datos incompletos:"
   ]
  },
  {
   "cell_type": "code",
   "execution_count": 10,
   "metadata": {},
   "outputs": [],
   "source": [
    "filas_nan  = datos_falsos[datos_falsos.isna().any(axis=1)]"
   ]
  },
  {
   "cell_type": "code",
   "execution_count": 11,
   "metadata": {},
   "outputs": [
    {
     "data": {
      "text/html": [
       "<div>\n",
       "<style scoped>\n",
       "    .dataframe tbody tr th:only-of-type {\n",
       "        vertical-align: middle;\n",
       "    }\n",
       "\n",
       "    .dataframe tbody tr th {\n",
       "        vertical-align: top;\n",
       "    }\n",
       "\n",
       "    .dataframe thead th {\n",
       "        text-align: right;\n",
       "    }\n",
       "</style>\n",
       "<table border=\"1\" class=\"dataframe\">\n",
       "  <thead>\n",
       "    <tr style=\"text-align: right;\">\n",
       "      <th></th>\n",
       "      <th>Nombre</th>\n",
       "      <th>Apellido</th>\n",
       "      <th>email</th>\n",
       "      <th>Genero</th>\n",
       "      <th>Salario</th>\n",
       "      <th>Raza</th>\n",
       "    </tr>\n",
       "    <tr>\n",
       "      <th>id</th>\n",
       "      <th></th>\n",
       "      <th></th>\n",
       "      <th></th>\n",
       "      <th></th>\n",
       "      <th></th>\n",
       "      <th></th>\n",
       "    </tr>\n",
       "  </thead>\n",
       "  <tbody>\n",
       "    <tr>\n",
       "      <th>7</th>\n",
       "      <td>Denna</td>\n",
       "      <td>Shaw</td>\n",
       "      <td>dshaw6@ed.gov</td>\n",
       "      <td>Female</td>\n",
       "      <td>952131.0</td>\n",
       "      <td>NaN</td>\n",
       "    </tr>\n",
       "    <tr>\n",
       "      <th>24</th>\n",
       "      <td>Nikolai</td>\n",
       "      <td>Bingle</td>\n",
       "      <td>nbinglen@mediafire.com</td>\n",
       "      <td>Male</td>\n",
       "      <td>718864.0</td>\n",
       "      <td>NaN</td>\n",
       "    </tr>\n",
       "    <tr>\n",
       "      <th>29</th>\n",
       "      <td>Christie</td>\n",
       "      <td>Luttger</td>\n",
       "      <td>cluttgers@studiopress.com</td>\n",
       "      <td>Male</td>\n",
       "      <td>NaN</td>\n",
       "      <td>Laotian</td>\n",
       "    </tr>\n",
       "    <tr>\n",
       "      <th>30</th>\n",
       "      <td>Lukas</td>\n",
       "      <td>Bonhome</td>\n",
       "      <td>lbonhomet@telegraph.co.uk</td>\n",
       "      <td>Male</td>\n",
       "      <td>NaN</td>\n",
       "      <td>Taiwanese</td>\n",
       "    </tr>\n",
       "    <tr>\n",
       "      <th>37</th>\n",
       "      <td>Hewe</td>\n",
       "      <td>Aynsley</td>\n",
       "      <td>haynsley10@networksolutions.com</td>\n",
       "      <td>Male</td>\n",
       "      <td>NaN</td>\n",
       "      <td>Salvadoran</td>\n",
       "    </tr>\n",
       "    <tr>\n",
       "      <th>...</th>\n",
       "      <td>...</td>\n",
       "      <td>...</td>\n",
       "      <td>...</td>\n",
       "      <td>...</td>\n",
       "      <td>...</td>\n",
       "      <td>...</td>\n",
       "    </tr>\n",
       "    <tr>\n",
       "      <th>971</th>\n",
       "      <td>Ebeneser</td>\n",
       "      <td>Lavington</td>\n",
       "      <td>elavingtonqy@elegantthemes.com</td>\n",
       "      <td>Male</td>\n",
       "      <td>629346.0</td>\n",
       "      <td>NaN</td>\n",
       "    </tr>\n",
       "    <tr>\n",
       "      <th>973</th>\n",
       "      <td>Evered</td>\n",
       "      <td>Minnis</td>\n",
       "      <td>eminnisr0@sina.com.cn</td>\n",
       "      <td>Male</td>\n",
       "      <td>922488.0</td>\n",
       "      <td>NaN</td>\n",
       "    </tr>\n",
       "    <tr>\n",
       "      <th>986</th>\n",
       "      <td>Nikita</td>\n",
       "      <td>Lemmertz</td>\n",
       "      <td>nlemmertzrd@washingtonpost.com</td>\n",
       "      <td>Male</td>\n",
       "      <td>NaN</td>\n",
       "      <td>Shoshone</td>\n",
       "    </tr>\n",
       "    <tr>\n",
       "      <th>992</th>\n",
       "      <td>Kenon</td>\n",
       "      <td>Barnshaw</td>\n",
       "      <td>kbarnshawrj@istockphoto.com</td>\n",
       "      <td>Male</td>\n",
       "      <td>NaN</td>\n",
       "      <td>Chickasaw</td>\n",
       "    </tr>\n",
       "    <tr>\n",
       "      <th>1000</th>\n",
       "      <td>Dinnie</td>\n",
       "      <td>Poat</td>\n",
       "      <td>dpoatrr@hc360.com</td>\n",
       "      <td>Female</td>\n",
       "      <td>NaN</td>\n",
       "      <td>Cuban</td>\n",
       "    </tr>\n",
       "  </tbody>\n",
       "</table>\n",
       "<p>110 rows × 6 columns</p>\n",
       "</div>"
      ],
      "text/plain": [
       "        Nombre   Apellido                            email  Genero   Salario  \\\n",
       "id                                                                             \n",
       "7        Denna       Shaw                    dshaw6@ed.gov  Female  952131.0   \n",
       "24     Nikolai     Bingle           nbinglen@mediafire.com    Male  718864.0   \n",
       "29    Christie    Luttger        cluttgers@studiopress.com    Male       NaN   \n",
       "30       Lukas    Bonhome        lbonhomet@telegraph.co.uk    Male       NaN   \n",
       "37        Hewe    Aynsley  haynsley10@networksolutions.com    Male       NaN   \n",
       "...        ...        ...                              ...     ...       ...   \n",
       "971   Ebeneser  Lavington   elavingtonqy@elegantthemes.com    Male  629346.0   \n",
       "973     Evered     Minnis            eminnisr0@sina.com.cn    Male  922488.0   \n",
       "986     Nikita   Lemmertz   nlemmertzrd@washingtonpost.com    Male       NaN   \n",
       "992      Kenon   Barnshaw      kbarnshawrj@istockphoto.com    Male       NaN   \n",
       "1000    Dinnie       Poat                dpoatrr@hc360.com  Female       NaN   \n",
       "\n",
       "            Raza  \n",
       "id                \n",
       "7            NaN  \n",
       "24           NaN  \n",
       "29       Laotian  \n",
       "30     Taiwanese  \n",
       "37    Salvadoran  \n",
       "...          ...  \n",
       "971          NaN  \n",
       "973          NaN  \n",
       "986     Shoshone  \n",
       "992    Chickasaw  \n",
       "1000       Cuban  \n",
       "\n",
       "[110 rows x 6 columns]"
      ]
     },
     "execution_count": 11,
     "metadata": {},
     "output_type": "execute_result"
    }
   ],
   "source": [
    "filas_nan"
   ]
  },
  {
   "cell_type": "markdown",
   "metadata": {},
   "source": [
    "Se observa que hay 110 filas, con la siguiente instrucción eliminamos estas filas del dataframe:"
   ]
  },
  {
   "cell_type": "code",
   "execution_count": 12,
   "metadata": {
    "scrolled": true
   },
   "outputs": [],
   "source": [
    "datos_falsos.dropna(inplace=True)"
   ]
  },
  {
   "cell_type": "code",
   "execution_count": 13,
   "metadata": {},
   "outputs": [
    {
     "data": {
      "text/html": [
       "<div>\n",
       "<style scoped>\n",
       "    .dataframe tbody tr th:only-of-type {\n",
       "        vertical-align: middle;\n",
       "    }\n",
       "\n",
       "    .dataframe tbody tr th {\n",
       "        vertical-align: top;\n",
       "    }\n",
       "\n",
       "    .dataframe thead th {\n",
       "        text-align: right;\n",
       "    }\n",
       "</style>\n",
       "<table border=\"1\" class=\"dataframe\">\n",
       "  <thead>\n",
       "    <tr style=\"text-align: right;\">\n",
       "      <th></th>\n",
       "      <th>Nombre</th>\n",
       "      <th>Apellido</th>\n",
       "      <th>email</th>\n",
       "      <th>Genero</th>\n",
       "      <th>Salario</th>\n",
       "      <th>Raza</th>\n",
       "    </tr>\n",
       "    <tr>\n",
       "      <th>id</th>\n",
       "      <th></th>\n",
       "      <th></th>\n",
       "      <th></th>\n",
       "      <th></th>\n",
       "      <th></th>\n",
       "      <th></th>\n",
       "    </tr>\n",
       "  </thead>\n",
       "  <tbody>\n",
       "    <tr>\n",
       "      <th>1</th>\n",
       "      <td>Fredi</td>\n",
       "      <td>Ochiltree</td>\n",
       "      <td>fochiltree0@digg.com</td>\n",
       "      <td>Female</td>\n",
       "      <td>973729.0</td>\n",
       "      <td>Latin American Indian</td>\n",
       "    </tr>\n",
       "    <tr>\n",
       "      <th>2</th>\n",
       "      <td>Anneliese</td>\n",
       "      <td>Southey</td>\n",
       "      <td>asouthey1@prweb.com</td>\n",
       "      <td>Female</td>\n",
       "      <td>827507.0</td>\n",
       "      <td>White</td>\n",
       "    </tr>\n",
       "    <tr>\n",
       "      <th>3</th>\n",
       "      <td>Mauricio</td>\n",
       "      <td>Marchant</td>\n",
       "      <td>mmarchant2@tripod.com</td>\n",
       "      <td>Male</td>\n",
       "      <td>814941.0</td>\n",
       "      <td>Delaware</td>\n",
       "    </tr>\n",
       "    <tr>\n",
       "      <th>4</th>\n",
       "      <td>Meara</td>\n",
       "      <td>Caitlin</td>\n",
       "      <td>mcaitlin3@tinypic.com</td>\n",
       "      <td>Female</td>\n",
       "      <td>975119.0</td>\n",
       "      <td>Aleut</td>\n",
       "    </tr>\n",
       "    <tr>\n",
       "      <th>5</th>\n",
       "      <td>Jory</td>\n",
       "      <td>Lacoste</td>\n",
       "      <td>jlacoste4@comcast.net</td>\n",
       "      <td>Male</td>\n",
       "      <td>680650.0</td>\n",
       "      <td>Colville</td>\n",
       "    </tr>\n",
       "    <tr>\n",
       "      <th>...</th>\n",
       "      <td>...</td>\n",
       "      <td>...</td>\n",
       "      <td>...</td>\n",
       "      <td>...</td>\n",
       "      <td>...</td>\n",
       "      <td>...</td>\n",
       "    </tr>\n",
       "    <tr>\n",
       "      <th>995</th>\n",
       "      <td>Pat</td>\n",
       "      <td>Langhor</td>\n",
       "      <td>planghorrm@jigsy.com</td>\n",
       "      <td>Female</td>\n",
       "      <td>913469.0</td>\n",
       "      <td>Dominican (Dominican Republic)</td>\n",
       "    </tr>\n",
       "    <tr>\n",
       "      <th>996</th>\n",
       "      <td>Darsie</td>\n",
       "      <td>Levane</td>\n",
       "      <td>dlevanern@sohu.com</td>\n",
       "      <td>Female</td>\n",
       "      <td>836998.0</td>\n",
       "      <td>Hmong</td>\n",
       "    </tr>\n",
       "    <tr>\n",
       "      <th>997</th>\n",
       "      <td>Camala</td>\n",
       "      <td>Wathall</td>\n",
       "      <td>cwathallro@pen.io</td>\n",
       "      <td>Female</td>\n",
       "      <td>480701.0</td>\n",
       "      <td>Fijian</td>\n",
       "    </tr>\n",
       "    <tr>\n",
       "      <th>998</th>\n",
       "      <td>Jessie</td>\n",
       "      <td>Bolf</td>\n",
       "      <td>jbolfrp@adobe.com</td>\n",
       "      <td>Genderfluid</td>\n",
       "      <td>727565.0</td>\n",
       "      <td>Asian</td>\n",
       "    </tr>\n",
       "    <tr>\n",
       "      <th>999</th>\n",
       "      <td>Maureen</td>\n",
       "      <td>Grieger</td>\n",
       "      <td>mgriegerrq@google.com.br</td>\n",
       "      <td>Female</td>\n",
       "      <td>851410.0</td>\n",
       "      <td>Korean</td>\n",
       "    </tr>\n",
       "  </tbody>\n",
       "</table>\n",
       "<p>890 rows × 6 columns</p>\n",
       "</div>"
      ],
      "text/plain": [
       "        Nombre   Apellido                     email       Genero   Salario  \\\n",
       "id                                                                           \n",
       "1        Fredi  Ochiltree      fochiltree0@digg.com       Female  973729.0   \n",
       "2    Anneliese    Southey       asouthey1@prweb.com       Female  827507.0   \n",
       "3     Mauricio   Marchant     mmarchant2@tripod.com         Male  814941.0   \n",
       "4        Meara    Caitlin     mcaitlin3@tinypic.com       Female  975119.0   \n",
       "5         Jory    Lacoste     jlacoste4@comcast.net         Male  680650.0   \n",
       "..         ...        ...                       ...          ...       ...   \n",
       "995        Pat    Langhor      planghorrm@jigsy.com       Female  913469.0   \n",
       "996     Darsie     Levane        dlevanern@sohu.com       Female  836998.0   \n",
       "997     Camala    Wathall         cwathallro@pen.io       Female  480701.0   \n",
       "998     Jessie       Bolf         jbolfrp@adobe.com  Genderfluid  727565.0   \n",
       "999    Maureen    Grieger  mgriegerrq@google.com.br       Female  851410.0   \n",
       "\n",
       "                               Raza  \n",
       "id                                   \n",
       "1             Latin American Indian  \n",
       "2                             White  \n",
       "3                          Delaware  \n",
       "4                             Aleut  \n",
       "5                          Colville  \n",
       "..                              ...  \n",
       "995  Dominican (Dominican Republic)  \n",
       "996                           Hmong  \n",
       "997                          Fijian  \n",
       "998                           Asian  \n",
       "999                          Korean  \n",
       "\n",
       "[890 rows x 6 columns]"
      ]
     },
     "execution_count": 13,
     "metadata": {},
     "output_type": "execute_result"
    }
   ],
   "source": [
    "datos_falsos"
   ]
  },
  {
   "cell_type": "markdown",
   "metadata": {},
   "source": [
    "Ahora que no existen datos nulos, se puede analizar la base de datos:"
   ]
  },
  {
   "cell_type": "markdown",
   "metadata": {},
   "source": [
    "## Histograma"
   ]
  },
  {
   "cell_type": "markdown",
   "metadata": {},
   "source": [
    "Vamos a hacer un histograma que nos muestre la distribución de los salarios."
   ]
  },
  {
   "cell_type": "markdown",
   "metadata": {},
   "source": [
    "Pero antes de hacer el histograma vamos a ver cual es el valor mínimo y el valor máximo"
   ]
  },
  {
   "cell_type": "code",
   "execution_count": 14,
   "metadata": {},
   "outputs": [
    {
     "data": {
      "text/plain": [
       "451173.0"
      ]
     },
     "execution_count": 14,
     "metadata": {},
     "output_type": "execute_result"
    }
   ],
   "source": [
    "datos_falsos.Salario.min()"
   ]
  },
  {
   "cell_type": "code",
   "execution_count": 15,
   "metadata": {},
   "outputs": [
    {
     "data": {
      "text/plain": [
       "999973.0"
      ]
     },
     "execution_count": 15,
     "metadata": {},
     "output_type": "execute_result"
    }
   ],
   "source": [
    "datos_falsos.Salario.max()"
   ]
  },
  {
   "cell_type": "markdown",
   "metadata": {},
   "source": [
    "Se crea un histograma con valores entre 400.000 y 1.000.000."
   ]
  },
  {
   "cell_type": "code",
   "execution_count": 16,
   "metadata": {},
   "outputs": [
    {
     "data": {
      "image/png": "[encoded data removed]",
      "text/plain": [
       "<Figure size 1000x600 with 1 Axes>"
      ]
     },
     "metadata": {},
     "output_type": "display_data"
    }
   ],
   "source": [
    "bins=[400000,500000,600000,700000,800000,900000,1000000] \n",
    "fig = plt.figure(figsize=(10, 6)) #Esta instrucción cambia el tamaño de la figura\n",
    "plt.hist(datos_falsos.Salario,bins=bins, edgecolor='black')  #Esta instrucción crea el histograma\n",
    "plt.ticklabel_format(style='plain', axis='x')# Esta instrucción deja los valores del eje x como formato número.\n",
    "plt.xlabel('Salario') #Esto indica que el titulo del eje x es Salario\n",
    "plt.ylabel('Frecuencia')#Esto indica que el titulo del eje y es Frecuencia\n",
    "plt.title('Histograma')#Esto indica que el titulo de la figura es Histograma\n",
    "plt.show()"
   ]
  },
  {
   "cell_type": "markdown",
   "metadata": {},
   "source": [
    "Se observa que la mayoría de los individuos tienen un salario entre 600.000 y 700.000."
   ]
  },
  {
   "cell_type": "markdown",
   "metadata": {},
   "source": [
    "## Gráfico circular"
   ]
  },
  {
   "cell_type": "markdown",
   "metadata": {},
   "source": [
    "Ahora vamos a hacer un analisis del salario según el genero del individuo. Quiero crear un gráfico circular que me muestre el porcentaje de personas con genero masculino, femenino y de otros generos."
   ]
  },
  {
   "cell_type": "markdown",
   "metadata": {},
   "source": [
    "Con la siguiente instrucción, se clasifican todos los individuos de otros generos como 'Other Gender'"
   ]
  },
  {
   "cell_type": "code",
   "execution_count": 17,
   "metadata": {},
   "outputs": [],
   "source": [
    "serie_generos = datos_falsos['Genero'].apply(lambda x: 'Other Gender' if x not in ['Male', 'Female'] else x)"
   ]
  },
  {
   "cell_type": "markdown",
   "metadata": {},
   "source": [
    "Luego vemos la cantidad de individuos hay para cada genero:"
   ]
  },
  {
   "cell_type": "code",
   "execution_count": 18,
   "metadata": {},
   "outputs": [
    {
     "name": "stdout",
     "output_type": "stream",
     "text": [
      "Hay 383 varones\n",
      "Hay 415 damas\n",
      "Hay 92 personas que se identifican con otro genero\n"
     ]
    }
   ],
   "source": [
    "contador_masculino=0\n",
    "contador_femenino=0\n",
    "contador_otros=0\n",
    "for genero in serie_generos:\n",
    "        if genero=='Male':\n",
    "            contador_masculino=contador_masculino+1     \n",
    "        if genero=='Female':\n",
    "            contador_femenino=contador_femenino+1\n",
    "        if genero=='Other Gender':\n",
    "        \n",
    "            contador_otros=contador_otros+1\n",
    "            \n",
    "print(f\"Hay {contador_masculino} varones\")\n",
    "print(f\"Hay {contador_femenino} damas\")\n",
    "print(f\"Hay {contador_otros} personas que se identifican con otro genero\")"
   ]
  },
  {
   "cell_type": "markdown",
   "metadata": {},
   "source": [
    "Se define una lista de generos y una lista de contadores, las cuales se usaran como argumentos para crear el gráfico circular."
   ]
  },
  {
   "cell_type": "code",
   "execution_count": 19,
   "metadata": {},
   "outputs": [],
   "source": [
    "lista_generos=['Masculino','Femenino','Otro género']\n",
    "lista_contadores=[contador_masculino,contador_femenino,contador_otros]"
   ]
  },
  {
   "cell_type": "code",
   "execution_count": 20,
   "metadata": {},
   "outputs": [
    {
     "data": {
      "image/png": "[encoded data removed]",
      "text/plain": [
       "<Figure size 1000x600 with 1 Axes>"
      ]
     },
     "metadata": {},
     "output_type": "display_data"
    }
   ],
   "source": [
    "plt.pie(lista_contadores, labels=lista_generos, autopct='%1.2f%%', startangle=0)#Se usa como valores lista_contadores,\n",
    "# como etiqueta lista_generos, el resto de los argumentos sirve para configurar el aspecto del gráfico\n",
    "plt.title('Distribución de género')# Esto indica el título.\n",
    "plt.show()"
   ]
  },
  {
   "cell_type": "markdown",
   "metadata": {},
   "source": [
    "## Tabla de salario promedio por raza"
   ]
  },
  {
   "cell_type": "markdown",
   "metadata": {},
   "source": [
    "Ahora vamos a hacer una tabla de salario promedio por raza, para eso usamos la siguiente instrucción:"
   ]
  },
  {
   "cell_type": "code",
   "execution_count": 21,
   "metadata": {},
   "outputs": [],
   "source": [
    "Razas = datos_falsos.groupby(['Raza'])['Salario'].mean()"
   ]
  },
  {
   "cell_type": "code",
   "execution_count": 22,
   "metadata": {},
   "outputs": [
    {
     "data": {
      "text/plain": [
       "Raza\n",
       "Alaska Native                               743524.125000\n",
       "Alaskan Athabascan                          730064.538462\n",
       "Aleut                                       753173.692308\n",
       "American Indian                             673871.941176\n",
       "American Indian and Alaska Native (AIAN)    637190.600000\n",
       "                                                ...      \n",
       "Vietnamese                                  871162.571429\n",
       "White                                       680186.615385\n",
       "Yakama                                      836649.909091\n",
       "Yaqui                                       637764.100000\n",
       "Yuman                                       692356.600000\n",
       "Name: Salario, Length: 93, dtype: float64"
      ]
     },
     "execution_count": 22,
     "metadata": {},
     "output_type": "execute_result"
    }
   ],
   "source": [
    "Razas"
   ]
  },
  {
   "cell_type": "markdown",
   "metadata": {},
   "source": [
    "Se observa que hay muchas razas en el análisis, vamos a ordenarlas de mayor a menor y vamos a ver las 10 razas con mayor ingreso promedio"
   ]
  },
  {
   "cell_type": "code",
   "execution_count": 23,
   "metadata": {},
   "outputs": [
    {
     "data": {
      "text/plain": [
       "Raza\n",
       "Vietnamese                   871162.571429\n",
       "Potawatomi                   854158.222222\n",
       "Osage                        843081.900000\n",
       "Venezuelan                   837659.750000\n",
       "Yakama                       836649.909091\n",
       "Creek                        833273.800000\n",
       "Asian                        830230.166667\n",
       "Bangladeshi                  808420.750000\n",
       "Houma                        807702.666667\n",
       "Black or African American    806661.750000\n",
       "Name: Salario, dtype: float64"
      ]
     },
     "execution_count": 23,
     "metadata": {},
     "output_type": "execute_result"
    }
   ],
   "source": [
    "Razas.sort_values(ascending=False).head(10)"
   ]
  },
  {
   "cell_type": "markdown",
   "metadata": {},
   "source": [
    "Se observa que la raza de mayor ingreso es la Vietnamita seguida por la Potawomi."
   ]
  },
  {
   "cell_type": "code",
   "execution_count": null,
   "metadata": {},
   "outputs": [],
   "source": []
  }
 ],
 "metadata": {
  "kernelspec": {
   "display_name": "Kernel 1",
   "language": "python",
   "name": "mi_entorno"
  },
  "language_info": {
   "codemirror_mode": {
    "name": "ipython",
    "version": 3
   },
   "file_extension": ".py",
   "mimetype": "text/x-python",
   "name": "python",
   "nbconvert_exporter": "python",
   "pygments_lexer": "ipython3",
   "version": "3.8.17"
  }
 },
 "nbformat": 4,
 "nbformat_minor": 4
}
